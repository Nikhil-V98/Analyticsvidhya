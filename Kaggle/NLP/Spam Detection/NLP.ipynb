{
 "cells": [
  {
   "cell_type": "markdown",
   "metadata": {},
   "source": [
    "## Text Preprocessing Steps\n",
    "\n",
    "- converting all letters to lower or upper case\n",
    "- converting numbers into words or removing numbers\n",
    "- removing punctuations, accent marks and other diacritics\n",
    "- removing white spaces\n",
    "- expanding abbreviations\n",
    "- removing stop words, sparse terms, and particular words\n",
    "- applying lemmatization"
   ]
  },
  {
   "cell_type": "code",
   "execution_count": 216,
   "metadata": {},
   "outputs": [
    {
     "name": "stderr",
     "output_type": "stream",
     "text": [
      "[nltk_data] Downloading package stopwords to\n",
      "[nltk_data]     C:\\Users\\nikhi\\AppData\\Roaming\\nltk_data...\n",
      "[nltk_data]   Package stopwords is already up-to-date!\n",
      "[nltk_data] Downloading package punkt to\n",
      "[nltk_data]     C:\\Users\\nikhi\\AppData\\Roaming\\nltk_data...\n",
      "[nltk_data]   Package punkt is already up-to-date!\n"
     ]
    }
   ],
   "source": [
    "import pandas as pd\n",
    "import numpy as np\n",
    "import string\n",
    "import re\n",
    "import nltk\n",
    "from nltk.corpus import stopwords\n",
    "nltk.download('stopwords')\n",
    "nltk.download('punkt')\n",
    "from nltk.tokenize import word_tokenize\n",
    "\n",
    "import warnings\n",
    "warnings.filterwarnings('ignore')\n",
    "\n",
    "#expanding the dispay of text sms column\n",
    "pd.set_option('display.max_colwidth', -1)"
   ]
  },
  {
   "cell_type": "code",
   "execution_count": 217,
   "metadata": {},
   "outputs": [],
   "source": [
    "enronSpamSubset = pd.read_csv('enronSpamSubset.csv')\n",
    "# completeSpamAssassin = pd.read_csv('completeSpamAssassin.csv')\n",
    "# lingSpam = pd.read_csv('lingSpam.csv')\n",
    "\n",
    "# print('enronSpamSubset',enronSpamSubset.shape)\n",
    "# print('completeSpamAssassin',completeSpamAssassin.shape)\n",
    "# print('lingSpam',lingSpam.shape)\n",
    "\n",
    "df = enronSpamSubset[['Body','Label']]\n",
    "# val = lingSpam[['Body','Label']]\n",
    "# test = completeSpamAssassin[['Body','Label']]"
   ]
  },
  {
   "cell_type": "markdown",
   "metadata": {},
   "source": [
    "### Expanding Contractions:\n",
    "- Contractions are words or combinations of words that are shortened by dropping letters and replacing them by an apostrophe, and removing them contributes to text standardization"
   ]
  },
  {
   "cell_type": "code",
   "execution_count": 218,
   "metadata": {},
   "outputs": [],
   "source": [
    "contractions_dict = { \"ain't\": \"are not\", \"'s\":\" is\", \"aren't\": \"are not\", \"can't\": \"cannot\", \"can't've\": \"cannot have\", \"'cause\": \"because\",\n",
    " \"could've\": \"could have\", \"couldn't\": \"could not\", \"couldn't've\": \"could not have\", \"didn't\": \"did not\", \"doesn't\": \"does not\", \n",
    " \"don't\": \"do not\", \"hadn't\": \"had not\", \"hadn't've\": \"had not have\", \"hasn't\": \"has not\", \"haven't\": \"have not\", \"he'd\": \"he would\",\n",
    " \"he'd've\": \"he would have\", \"he'll\": \"he will\", \"he'll've\": \"he will have\", \"how'd\": \"how did\", \"how'd'y\": \"how do you\", \"how'll\": \"how will\",\n",
    " \"I'd\": \"I would\", \"I'd've\": \"I would have\", \"I'll\": \"I will\", \"I'll've\": \"I will have\", \"I'm\": \"I am\", \"I've\": \"I have\", \"isn't\": \"is not\", \n",
    " \"it'd\": \"it would\", \"it'd've\": \"it would have\", \"it'll\": \"it will\", \"it'll've\": \"it will have\", \"let's\": \"let us\", \"ma'am\": \"madam\", \n",
    " \"mayn't\": \"may not\", \"might've\": \"might have\", \"mightn't\": \"might not\", \"mightn't've\": \"might not have\", \"must've\": \"must have\", \n",
    " \"mustn't\": \"must not\", \"mustn't've\": \"must not have\", \"needn't\": \"need not\", \"needn't've\": \"need not have\", \"o'clock\": \"of the clock\", \n",
    " \"oughtn't\": \"ought not\", \"oughtn't've\": \"ought not have\", \"shan't\": \"shall not\", \"sha'n't\": \"shall not\", \"shan't've\": \"shall not have\", \n",
    " \"she'd\": \"she would\", \"she'd've\": \"she would have\", \"she'll\": \"she will\", \"she'll've\": \"she will have\", \"should've\": \"should have\", \n",
    " \"shouldn't\": \"should not\", \"shouldn't've\": \"should not have\", \"so've\": \"so have\", \"that'd\": \"that would\", \"that'd've\": \"that would have\", \n",
    " \"there'd\": \"there would\", \"there'd've\": \"there would have\", \"they'd\": \"they would\", \"they'd've\": \"they would have\",\"they'll\": \"they will\",\n",
    " \"they'll've\": \"they will have\", \"they're\": \"they are\", \"they've\": \"they have\", \"to've\": \"to have\", \"wasn't\": \"was not\", \"we'd\": \"we would\", \n",
    " \"we'd've\": \"we would have\", \"we'll\": \"we will\", \"we'll've\": \"we will have\", \"we're\": \"we are\", \"we've\": \"we have\", \"weren't\": \"were not\",\n",
    " \"what'll\": \"what will\", \"what'll've\": \"what will have\", \"what're\": \"what are\", \"what've\": \"what have\", \"when've\": \"when have\", \n",
    " \"where'd\": \"where did\", \"where've\": \"where have\", \"who'll\": \"who will\", \"who'll've\": \"who will have\", \"who've\": \"who have\", \n",
    " \"why've\": \"why have\", \"will've\": \"will have\", \"won't\": \"will not\", \"won't've\": \"will not have\", \"would've\": \"would have\", \n",
    " \"wouldn't\": \"would not\", \"wouldn't've\": \"would not have\", \"y'all\": \"you all\", \"y'all'd\": \"you all would\", \"y'all'd've\": \"you all would have\", \n",
    " \"y'all're\": \"you all are\", \"y'all've\": \"you all have\", \"you'd\": \"you would\", \"you'd've\": \"you would have\", \"you'll\": \"you will\", \n",
    " \"you'll've\": \"you will have\", \"you're\": \"you are\", \"you've\": \"you have\"}"
   ]
  },
  {
   "cell_type": "code",
   "execution_count": 222,
   "metadata": {},
   "outputs": [
    {
     "data": {
      "text/plain": [
       "'Subject: the man of stteel\\n hello , welcome to the medzonlin direction e\\n - online pharmaceutical sho feverfew p .\\n v escape a\\n warbler um superfluity vi\\n wakeless ra semiconscious ci\\n shriek is\\n l chastisement i\\n contender ag\\n a cringle l\\n andmanyother .\\n inhabited with our shop you get -\\n best pluviometer prlces\\n excellent yellowness service\\n fa humidor st shipping\\n private online orde gestation ring\\n have a nice day .'"
      ]
     },
     "execution_count": 222,
     "metadata": {},
     "output_type": "execute_result"
    }
   ],
   "source": [
    "df['Body'][8]"
   ]
  },
  {
   "cell_type": "code",
   "execution_count": 214,
   "metadata": {},
   "outputs": [],
   "source": [
    "contractions_re = re.compile('(%s)'%'|'.join(contractions_dict.keys()))\n",
    "def expand_contractions(s, contractions_dict=contractions_dict):\n",
    "  def replace(match):\n",
    "    return contractions_dict[match.group(0)]\n",
    "  return contractions_re.sub(replace, s)\n",
    "for i in range(df.shape[0]):\n",
    "    df['Body'][i] = expand_contractions(df['Body'][i])"
   ]
  },
  {
   "cell_type": "code",
   "execution_count": 215,
   "metadata": {},
   "outputs": [
    {
     "data": {
      "text/plain": [
       "\"Subject: stock promo mover : cwtd\\n * * * urgent investor trading alert * * *\\n weekly stock pick - - china world trade corp . ( ticker : cwtd )\\n * * breaking news * *\\n china world trade corp . enters into agreement to acquire\\n majority stake in ceo clubs china limited ( the ceo clubs )\\n tianhe , guangzhou , china - - ( market wire ) - - apr 7 , 2004 - - china world trade corp\\n ( otc bb : cwtd . ob - news ) announced today that it has entered into an agreement to\\n acquired majority stake in ceo clubs china limited ( the ceo clubs ) , a hong\\n kong corporation with authorized chapter to operate under the ceo clubs\\n trademarks in the greater china region , including the prc , hong kong and taiwan .\\n china world trade corp .\\n symbol : cwtd\\n price $ 4 . 80\\n shares out : 16 million\\n market capitalization : $ 19 million\\n significant revenue growth in 2004\\n average pe industry : 30 x\\n rating : strong buy\\n 7 days trading target : $ 6 . 50\\n 30 day trading target : $ 7 . 50\\n cwtd is our play of the month stock pick .\\n here are a few simple reasons why one would own china world trade corp :\\n china world trade corp announced today that it has entered into an agreement\\n to acquired majority stake in ceo clubs china limited ( the ceo clubs ) , a hong\\n kong corporation with authorized chapter to operate under the ceo clubs\\n trademarks in the greater china region , including the prc , hong kong and taiwan .\\n china world trade corp has just gotten 1 . 2 million cash for working capital\\n from a single shareholder ! !\\n has acquired multiple companies in the past few months resulting in huge assets\\n for the company\\n china world trade corp is in the process of being accepted onto the amex\\n china world trade corporation is an official operator of world trade centers\\n in china , in association with the world trade centers association ( wtca ) and\\n offers an enormous variety of services for businesses and industries seeking\\n to do business in china .\\n the company ' s business model consists of three major components - - the world\\n trade center business , value - added services , and strategic investments .\\n china world trade corporation established the first world trade center in the\\n province of guangzhou ( canton ) in the year 2002 and started the commercial operation\\n at the beginning of 2003 . this significant event was covered in detail on cnn\\n asia .\\n with the recent tragic events of 9 - 11 , the name world trade center has instant\\n global recognition , and stands for unity , strength and prosperity throughout\\n the worlds top economy leaders .\\n china world trade corp signs letter of intent to acquire controlling stake\\n of guangdong huahao industries holdings limited\\n cwtd ' s business potential is built upon the opportunity created by the international\\n trade of china .\\n investment outlook\\n - cwtd has a strong management team that includes top local corporate officers ,\\n high ranking senior government officials and senior management from the hong\\n kong world trade center\\n - in the last twenty years , the foreign direct investment into china has increased\\n from 0 . 92 billion usd in 1983 to 52 . 74 billion usd in 2004\\n - cwtd is firmly positioned to vastly expand its marketing and acquisition\\n strategies and capitalize on asia ' s multi - billion dollar emerging market .\\n - cwtd has just made the application to list on the amex ! ! !\\n - china world trade corp signs letter of intent to acquire controlling stake\\n of guangdong huahao industries holdings limited\\n information within this email contains forward looking statements\\n within the meaning of section 27 a of the securities act of 1933 and section\\n 21 b of the securities exchange act of 1934 . any statements that express or involve\\n discussions with respect to predictions , goals , expectations , beliefs , plans ,\\n projections , objectives , assumptions or future events or performance are not\\n statements of historical fact and may be forward looking statements .\\n zhnwz cgwop ntytd vtmtd ryvka rywrbdqxfb cruma\\n jvqon pgcwj egrdg fdotc tyovo kebkb\\n forward looking statements are based on expectations , estimates and projections\\n at the time the statements are made that involve a number of risks and uncertainties\\n which could cause actual results or events to differ materially from those presently\\n anticipated . forward looking statements in this action may be identified through\\n the use of words such as : projects , foresee , expects ,\\n estimates , believes , understands will ,\\n anticipates , or that by statements indicating certain actions may ,\\n could , or might occur . all information provided within\\n this email pertaining to investing , stocks , securities must be understood as\\n information provided and not investment advice . we advise all readers and subscribers\\n to seek advice from a registered professional securities representative before\\n deciding to trade in stocks featured within this email . none of the material\\n within this report shall be construed as any kind of investment advice . gs research\\n and / or its officers and employees have been compensated 50 , 000 open trade shares\\n by a third party for work involved in the preparation and production of this\\n report\\n in compliance with section 17 ( b ) , we disclose the holding of independently\\n purchased shares of the company mentioned prior to the publication of this report . .\\n be aware of an inherent conflict of interest resulting from such holdings due\\n to our intent to profit from the liquidation of these shares . shares may be\\n sold at any time , even after positive statements have been made regarding the\\n above company . short term trading targets are only guesses on our part . keep\\n in mind that when trading small stocks like the company above there is a chance\\n you will lose every penny you invest . furthermore there have been times in the\\n past when the company itself tells lies , gives false information and puts out\\n false news . this email is for entertainment purposes only . this is not investment\\n advice . we suggest you check with an investment professional before investing\\n any stocks or mutual funds .\\n pkmdk evorz gjdhb zcqym qretp hyexrpchju euqlb\\n tszve zitda xyueq xkumc kuhwz haeex\\n\""
      ]
     },
     "execution_count": 215,
     "metadata": {},
     "output_type": "execute_result"
    }
   ],
   "source": [
    "df['Body'][0]"
   ]
  },
  {
   "cell_type": "code",
   "execution_count": 205,
   "metadata": {},
   "outputs": [],
   "source": [
    "df1 = df.copy(deep=True)\n",
    "for i in range(df1.shape[0]):\n",
    "    df1['Body'][i] = df1['Body'][i].lower()\n",
    "    df1['Body'][i] = re.sub(\"http : / / \\S+|https : / / \\S+\",\" \", df1['Body'][i])\n",
    "    # df['Body'][i] = re.sub(\"[^a-zA-Z]\", \" \",df['Body'][i])\n",
    "    # df['Body'][i] = word_tokenize(df['Body'][i])"
   ]
  },
  {
   "cell_type": "code",
   "execution_count": 206,
   "metadata": {},
   "outputs": [
    {
     "data": {
      "text/plain": [
       "'subject: important information thu , 30 jun 2005 .\\n subject : important information thu , 30 jun 2005 .\\n thank you for using our online store and for your previous order . we have updated our online software store - now we have more latest version of programs . our\\n full catalog with 2100 freshest software titles available for instant download at\\n web - site   . tabloidez . com /\\n we hope that you will tell others about your positive experience with us .\\n with best wishes ,\\n managing director ! ? ceo\\n grover salinas\\n latest news :\\n idaho girl found ; brother feared dead\\n keep your cool with our favorite summer drinks\\n idaho girl found ; brother feared dead\\n america \\x92 s amusement parks ready to ride\\n   . msnbc . msn . com / id / 8444813 /'"
      ]
     },
     "execution_count": 206,
     "metadata": {},
     "output_type": "execute_result"
    }
   ],
   "source": [
    "df1['Body'][2]"
   ]
  },
  {
   "cell_type": "code",
   "execution_count": 185,
   "metadata": {},
   "outputs": [],
   "source": [
    "# tuple(stopwords.words('english'))+('www','com','https','http')"
   ]
  }
 ],
 "metadata": {
  "kernelspec": {
   "display_name": "Python 3.10.8 64-bit",
   "language": "python",
   "name": "python3"
  },
  "language_info": {
   "codemirror_mode": {
    "name": "ipython",
    "version": 3
   },
   "file_extension": ".py",
   "mimetype": "text/x-python",
   "name": "python",
   "nbconvert_exporter": "python",
   "pygments_lexer": "ipython3",
   "version": "3.10.8"
  },
  "orig_nbformat": 4,
  "vscode": {
   "interpreter": {
    "hash": "49925a85a85dac8a2dca5afbebde9d93135fdd4b812dbf89ef8044a5eedbb9bf"
   }
  }
 },
 "nbformat": 4,
 "nbformat_minor": 2
}
