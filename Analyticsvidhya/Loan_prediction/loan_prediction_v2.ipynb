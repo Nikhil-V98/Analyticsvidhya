{
 "cells": [
  {
   "cell_type": "code",
   "execution_count": 1,
   "metadata": {},
   "outputs": [],
   "source": [
    "import pandas as pd\n",
    "import numpy as np\n",
    "import matplotlib.pyplot as plt\n",
    "import seaborn as sns \n",
    "\n",
    "# magic function is to enable the inline plotting\n",
    "%matplotlib inline \n",
    "\n",
    "# for display all the column in the datafarmes\n",
    "pd.pandas.set_option('display.max_columns',None)"
   ]
  },
  {
   "cell_type": "code",
   "execution_count": 2,
   "metadata": {},
   "outputs": [],
   "source": [
    "test = pd.read_csv(\"https://raw.githubusercontent.com/Nikhil-V98/Analyticsvidhya/main/Loan_prediction/test_lAUu6dG.csv\")\n",
    "train = pd.read_csv(\"https://raw.githubusercontent.com/Nikhil-V98/Analyticsvidhya/main/Loan_prediction/train_ctrUa4K.csv\")"
   ]
  },
  {
   "cell_type": "code",
   "execution_count": 3,
   "metadata": {},
   "outputs": [],
   "source": [
    "testRes = test[['Loan_ID']]"
   ]
  },
  {
   "cell_type": "code",
   "execution_count": 4,
   "metadata": {},
   "outputs": [],
   "source": [
    "train.drop('Loan_ID',axis=1,inplace = True)\n",
    "test.drop('Loan_ID',axis=1,inplace = True)"
   ]
  },
  {
   "cell_type": "code",
   "execution_count": 5,
   "metadata": {},
   "outputs": [],
   "source": [
    "features = train.columns\n",
    "cat = train[['Gender', 'Married', 'Dependents', 'Education', 'Self_Employed', 'Property_Area','Credit_History','Loan_Amount_Term']]\n",
    "num =train[['ApplicantIncome', 'CoapplicantIncome', 'LoanAmount']]"
   ]
  },
  {
   "cell_type": "code",
   "execution_count": 6,
   "metadata": {},
   "outputs": [],
   "source": [
    "train['Dependents'].replace(to_replace='3+',value='3',inplace = True)\n",
    "test['Dependents'].replace(to_replace='3+',value='3',inplace = True)"
   ]
  },
  {
   "cell_type": "code",
   "execution_count": 7,
   "metadata": {},
   "outputs": [],
   "source": [
    "na_variables = [ var for var in train.columns if train[var].isnull().mean() > 0 ]"
   ]
  },
  {
   "cell_type": "code",
   "execution_count": 8,
   "metadata": {},
   "outputs": [],
   "source": [
    "train[\"LoanAmount\"].fillna(train[\"LoanAmount\"].median(),inplace=True)\n",
    "for var in cat.columns:\n",
    "    if train[var].isnull().sum() >0:\n",
    "        train[var].fillna(train[var].mode()[0],inplace=True)\n",
    "\n",
    "## Test data\n",
    "\n",
    "test[\"LoanAmount\"].fillna(test[\"LoanAmount\"].median(),inplace=True)\n",
    "for var in cat.columns:\n",
    "    if test[var].isnull().sum() >0:\n",
    "        test[var].fillna(test[var].mode()[0],inplace=True)"
   ]
  },
  {
   "cell_type": "code",
   "execution_count": 9,
   "metadata": {},
   "outputs": [],
   "source": [
    "from sklearn.preprocessing import OneHotEncoder\n",
    "onehotencoder = OneHotEncoder(sparse=False,drop = 'if_binary')\n",
    "\n",
    "transformed_data = onehotencoder.fit_transform(train[['Gender']])\n",
    "# the above transformed_data is an array so convert it to dataframe and add feature name to the comlum\n",
    "encoded_data = pd.DataFrame(transformed_data, columns=onehotencoder.get_feature_names_out())\n",
    "\n",
    "# now concatenate the original data and the encoded data using pandas\n",
    "train = pd.concat([train, encoded_data], axis=1).drop('Gender', axis=1)\n",
    "\n",
    "## Test data\n",
    "\n",
    "from sklearn.preprocessing import OneHotEncoder\n",
    "onehotencoder = OneHotEncoder(sparse=False,drop = 'if_binary')\n",
    "\n",
    "transformed_data = onehotencoder.fit_transform(test[['Gender']])\n",
    "# the above transformed_data is an array so convert it to dataframe and add feature name to the comlum\n",
    "encoded_data = pd.DataFrame(transformed_data, columns=onehotencoder.get_feature_names_out())\n",
    "\n",
    "# now concatenate the original data and the encoded data using pandas\n",
    "test = pd.concat([test, encoded_data], axis=1).drop('Gender', axis=1)"
   ]
  },
  {
   "cell_type": "code",
   "execution_count": 10,
   "metadata": {},
   "outputs": [
    {
     "data": {
      "text/plain": [
       "'Gender_Male'"
      ]
     },
     "execution_count": 10,
     "metadata": {},
     "output_type": "execute_result"
    }
   ],
   "source": [
    "label_en = []\n",
    "for var in test.columns:\n",
    "    if len(test[var].unique()) < 6 :\n",
    "        label_en.append(var)\n",
    "        \n",
    "label_en.pop()"
   ]
  },
  {
   "cell_type": "code",
   "execution_count": 11,
   "metadata": {},
   "outputs": [],
   "source": [
    "from sklearn.preprocessing import LabelEncoder\n",
    "feature_col = label_en\n",
    "le = LabelEncoder()\n",
    "for col in feature_col:\n",
    "    train[col] = le.fit_transform(train[col])\n",
    "    test[col] = le.fit_transform(test[col])\n",
    "\n",
    "Loan_Status_dict = {'N':0, 'Y':1}\n",
    "train['Loan_Status'] = train['Loan_Status'].map(Loan_Status_dict)"
   ]
  },
  {
   "cell_type": "code",
   "execution_count": 12,
   "metadata": {},
   "outputs": [],
   "source": [
    "for var in ['ApplicantIncome','CoapplicantIncome','LoanAmount'] :\n",
    "    q10 = train[var].quantile(0.10)\n",
    "    q90 = train[var].quantile(0.90)\n",
    "    train[var] = np.where(train[var] <q10, q10,train[var])\n",
    "    train[var] = np.where(train[var] >q90, q90,train[var])\n",
    "    test[var] = np.where(test[var] <q10, q10,test[var])\n",
    "    test[var] = np.where(test[var] >q90, q90,test[var])"
   ]
  },
  {
   "cell_type": "code",
   "execution_count": 13,
   "metadata": {},
   "outputs": [],
   "source": [
    "from sklearn.preprocessing import StandardScaler\n",
    "scaler = StandardScaler()\n",
    "na_features = ['ApplicantIncome','CoapplicantIncome','LoanAmount','Loan_Amount_Term']\n",
    "for var in na_features:\n",
    "    train[var] = scaler.fit_transform(train[var].values.reshape(-1, 1))\n",
    "    test[var] = scaler.transform(test[var].values.reshape(-1, 1))"
   ]
  },
  {
   "cell_type": "code",
   "execution_count": 14,
   "metadata": {},
   "outputs": [],
   "source": [
    "from sklearn.model_selection import train_test_split\n",
    "X = train.drop(['Loan_Status'], axis=1)\n",
    "y = train[['Loan_Status']]\n",
    "X_test = test\n",
    "X_train, X_val, y_train, y_val = train_test_split(X, y, test_size=0.20, random_state=42, shuffle=True)"
   ]
  },
  {
   "cell_type": "code",
   "execution_count": 15,
   "metadata": {},
   "outputs": [
    {
     "name": "stderr",
     "output_type": "stream",
     "text": [
      "c:\\Users\\Nik\\AppData\\Local\\Programs\\Python\\Python310\\lib\\site-packages\\sklearn\\utils\\validation.py:1111: DataConversionWarning: A column-vector y was passed when a 1d array was expected. Please change the shape of y to (n_samples, ), for example using ravel().\n",
      "  y = column_or_1d(y, warn=True)\n"
     ]
    }
   ],
   "source": [
    "from sklearn.ensemble import RandomForestClassifier\n",
    "from sklearn.linear_model import LogisticRegression\n",
    "from sklearn.metrics import accuracy_score\n",
    "\n",
    "logistic_model = LogisticRegression(random_state=1)\n",
    "lg_model = logistic_model.fit(X,y)"
   ]
  },
  {
   "cell_type": "code",
   "execution_count": 16,
   "metadata": {},
   "outputs": [],
   "source": [
    "yPreds = logistic_model.predict(X_test)\n",
    "testRes['Loan_Status'] = yPreds\n"
   ]
  },
  {
   "cell_type": "code",
   "execution_count": 17,
   "metadata": {},
   "outputs": [],
   "source": [
    "Loan_Status_dict_1= {0:'N', 1:'Y'}\n",
    "testRes['Loan_Status'] = testRes['Loan_Status'].map(Loan_Status_dict_1)"
   ]
  },
  {
   "cell_type": "code",
   "execution_count": 18,
   "metadata": {},
   "outputs": [],
   "source": [
    "submission = testRes[['Loan_ID', 'Loan_Status']]\n",
    "submission.columns = ['Loan_ID','Loan_Status']\n",
    "submission.to_csv('submission_v2.csv', index = False)"
   ]
  }
 ],
 "metadata": {
  "kernelspec": {
   "display_name": "Python 3.10.5 64-bit",
   "language": "python",
   "name": "python3"
  },
  "language_info": {
   "codemirror_mode": {
    "name": "ipython",
    "version": 3
   },
   "file_extension": ".py",
   "mimetype": "text/x-python",
   "name": "python",
   "nbconvert_exporter": "python",
   "pygments_lexer": "ipython3",
   "version": "3.10.5"
  },
  "orig_nbformat": 4,
  "vscode": {
   "interpreter": {
    "hash": "788a82b91c0336814844834dbe028694862d9bc55d1fd4a8a9273fa14df8fc57"
   }
  }
 },
 "nbformat": 4,
 "nbformat_minor": 2
}
